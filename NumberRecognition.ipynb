{
  "nbformat": 4,
  "nbformat_minor": 0,
  "metadata": {
    "colab": {
      "provenance": []
    },
    "kernelspec": {
      "name": "python3",
      "display_name": "Python 3"
    },
    "language_info": {
      "name": "python"
    }
  },
  "cells": [
    {
      "cell_type": "code",
      "execution_count": 1,
      "metadata": {
        "id": "2liGbhUMVs8z"
      },
      "outputs": [],
      "source": [
        "import tensorflow\n",
        "from tensorflow import keras\n",
        "from tensorflow.keras import Sequential\n",
        "from tensorflow.keras.layers import Dense,Flatten"
      ]
    },
    {
      "cell_type": "code",
      "source": [
        "(x_train,y_train),(x_test,y_test)=keras.datasets.mnist.load_data()"
      ],
      "metadata": {
        "colab": {
          "base_uri": "https://localhost:8080/"
        },
        "id": "Q1xf3GmFWHzX",
        "outputId": "5127a944-c5a6-4a06-c545-4ab78e1af237"
      },
      "execution_count": 2,
      "outputs": [
        {
          "output_type": "stream",
          "name": "stdout",
          "text": [
            "Downloading data from https://storage.googleapis.com/tensorflow/tf-keras-datasets/mnist.npz\n",
            "11490434/11490434 [==============================] - 1s 0us/step\n"
          ]
        }
      ]
    },
    {
      "cell_type": "code",
      "source": [
        "x_train.shape"
      ],
      "metadata": {
        "colab": {
          "base_uri": "https://localhost:8080/"
        },
        "id": "RpzooaIHWjgN",
        "outputId": "1ec47016-1553-4ede-90d6-dcf8914e1765"
      },
      "execution_count": 4,
      "outputs": [
        {
          "output_type": "execute_result",
          "data": {
            "text/plain": [
              "(60000, 28, 28)"
            ]
          },
          "metadata": {},
          "execution_count": 4
        }
      ]
    },
    {
      "cell_type": "code",
      "source": [
        "y_train.shape"
      ],
      "metadata": {
        "colab": {
          "base_uri": "https://localhost:8080/"
        },
        "id": "xpXzXR1WWnoQ",
        "outputId": "4059b823-7680-4282-d17e-e75e93eb7508"
      },
      "execution_count": 5,
      "outputs": [
        {
          "output_type": "execute_result",
          "data": {
            "text/plain": [
              "(60000,)"
            ]
          },
          "metadata": {},
          "execution_count": 5
        }
      ]
    },
    {
      "cell_type": "code",
      "source": [
        "x_test.shape"
      ],
      "metadata": {
        "colab": {
          "base_uri": "https://localhost:8080/"
        },
        "id": "r0CmFKMmW76z",
        "outputId": "f4992080-97a3-4cc0-8d49-db9b9049da61"
      },
      "execution_count": 6,
      "outputs": [
        {
          "output_type": "execute_result",
          "data": {
            "text/plain": [
              "(10000, 28, 28)"
            ]
          },
          "metadata": {},
          "execution_count": 6
        }
      ]
    },
    {
      "cell_type": "code",
      "source": [
        "y_test.shape"
      ],
      "metadata": {
        "colab": {
          "base_uri": "https://localhost:8080/"
        },
        "id": "JUliT_sPXH2u",
        "outputId": "d21d8403-a86e-4cc5-8ea0-9ad21e42a0ae"
      },
      "execution_count": 7,
      "outputs": [
        {
          "output_type": "execute_result",
          "data": {
            "text/plain": [
              "(10000,)"
            ]
          },
          "metadata": {},
          "execution_count": 7
        }
      ]
    },
    {
      "cell_type": "markdown",
      "source": [
        "#### To get the image"
      ],
      "metadata": {
        "id": "ndzuc6UZXWhq"
      }
    },
    {
      "cell_type": "code",
      "source": [
        "import matplotlib.pyplot as plt\n",
        "plt.imshow(x_train[0]) # We can get every image by increasing the indexes."
      ],
      "metadata": {
        "colab": {
          "base_uri": "https://localhost:8080/",
          "height": 448
        },
        "id": "3uynK4WkW92r",
        "outputId": "d00a2ca4-cd1a-43c0-852e-d07bb0e18d17"
      },
      "execution_count": 9,
      "outputs": [
        {
          "output_type": "execute_result",
          "data": {
            "text/plain": [
              "<matplotlib.image.AxesImage at 0x78f65f1cb7c0>"
            ]
          },
          "metadata": {},
          "execution_count": 9
        },
        {
          "output_type": "display_data",
          "data": {
            "text/plain": [
              "<Figure size 640x480 with 1 Axes>"
            ],
            "image/png": "[encoded data removed]"
          },
          "metadata": {}
        }
      ]
    },
    {
      "cell_type": "code",
      "source": [
        "# To have similar kind of ranges of x_train\n",
        "# By dividing it by 255 to make the values in 0 to 1 range\n",
        "x_train=x_train/255\n",
        "x_test=x_test/255\n"
      ],
      "metadata": {
        "id": "4uJyHqrYXLD1"
      },
      "execution_count": 11,
      "outputs": []
    },
    {
      "cell_type": "markdown",
      "source": [
        "ANN(Artificial Neural Network)"
      ],
      "metadata": {
        "id": "s57FDRAjXvWf"
      }
    },
    {
      "cell_type": "code",
      "source": [
        "# Making the layers by making model\n",
        "# To make the layer flatten from 2D to 1D\n",
        "\n",
        "model=Sequential()\n",
        "\n",
        "model.add(Flatten(input_shape=(28,28)))\n",
        "model.add(Dense(128,activation=\"relu\"))\n",
        "model.add(Dense(32,activation=\"relu\"))\n",
        "model.add(Dense(10,activation=\"softmax\"))# Because we have more than one nodes use Soft max"
      ],
      "metadata": {
        "id": "4TyOSh-BYYUf"
      },
      "execution_count": 23,
      "outputs": []
    },
    {
      "cell_type": "code",
      "source": [
        "model.summary()\n"
      ],
      "metadata": {
        "colab": {
          "base_uri": "https://localhost:8080/"
        },
        "id": "aA4fqOZeYcGl",
        "outputId": "740ae964-c679-4127-d987-1eda1dfca3e0"
      },
      "execution_count": 33,
      "outputs": [
        {
          "output_type": "stream",
          "name": "stdout",
          "text": [
            "Model: \"sequential_1\"\n",
            "_________________________________________________________________\n",
            " Layer (type)                Output Shape              Param #   \n",
            "=================================================================\n",
            " flatten_1 (Flatten)         (None, 784)               0         \n",
            "                                                                 \n",
            " dense_2 (Dense)             (None, 128)               100480    \n",
            "                                                                 \n",
            " dense_3 (Dense)             (None, 32)                4128      \n",
            "                                                                 \n",
            " dense_4 (Dense)             (None, 10)                330       \n",
            "                                                                 \n",
            "=================================================================\n",
            "Total params: 104,938\n",
            "Trainable params: 104,938\n",
            "Non-trainable params: 0\n",
            "_________________________________________________________________\n"
          ]
        }
      ]
    },
    {
      "cell_type": "markdown",
      "source": [
        "To build the model\n",
        "\n",
        "\n"
      ],
      "metadata": {
        "id": "oQWyr2yaZKVe"
      }
    },
    {
      "cell_type": "code",
      "source": [
        "model.compile(loss='sparse_categorical_crossentropy',optimizer='Adam',metrics=['accuracy'])\n"
      ],
      "metadata": {
        "id": "otk49kFvZipa"
      },
      "execution_count": 28,
      "outputs": []
    },
    {
      "cell_type": "code",
      "source": [
        "#To train the model\n",
        "\n",
        "history=model.fit(x_train,y_train,epochs=25,validation_split=0.2)"
      ],
      "metadata": {
        "colab": {
          "base_uri": "https://localhost:8080/"
        },
        "id": "zr5YaBaUZ7d8",
        "outputId": "95172085-b34b-446e-8da9-d9f0a4c8ff52"
      },
      "execution_count": 29,
      "outputs": [
        {
          "output_type": "stream",
          "name": "stdout",
          "text": [
            "Epoch 1/25\n",
            "1500/1500 [==============================] - 10s 6ms/step - loss: 0.0092 - accuracy: 0.9970 - val_loss: 0.1630 - val_accuracy: 0.9765\n",
            "Epoch 2/25\n",
            "1500/1500 [==============================] - 8s 5ms/step - loss: 0.0062 - accuracy: 0.9981 - val_loss: 0.1731 - val_accuracy: 0.9744\n",
            "Epoch 3/25\n",
            "1500/1500 [==============================] - 9s 6ms/step - loss: 0.0065 - accuracy: 0.9981 - val_loss: 0.1788 - val_accuracy: 0.9761\n",
            "Epoch 4/25\n",
            "1500/1500 [==============================] - 9s 6ms/step - loss: 0.0075 - accuracy: 0.9974 - val_loss: 0.1950 - val_accuracy: 0.9718\n",
            "Epoch 5/25\n",
            "1500/1500 [==============================] - 9s 6ms/step - loss: 0.0081 - accuracy: 0.9976 - val_loss: 0.1814 - val_accuracy: 0.9750\n",
            "Epoch 6/25\n",
            "1500/1500 [==============================] - 10s 7ms/step - loss: 0.0060 - accuracy: 0.9982 - val_loss: 0.1759 - val_accuracy: 0.9756\n",
            "Epoch 7/25\n",
            "1500/1500 [==============================] - 10s 6ms/step - loss: 0.0056 - accuracy: 0.9984 - val_loss: 0.1839 - val_accuracy: 0.9772\n",
            "Epoch 8/25\n",
            "1500/1500 [==============================] - 9s 6ms/step - loss: 0.0102 - accuracy: 0.9969 - val_loss: 0.2159 - val_accuracy: 0.9737\n",
            "Epoch 9/25\n",
            "1500/1500 [==============================] - 9s 6ms/step - loss: 0.0065 - accuracy: 0.9981 - val_loss: 0.1803 - val_accuracy: 0.9769\n",
            "Epoch 10/25\n",
            "1500/1500 [==============================] - 9s 6ms/step - loss: 0.0067 - accuracy: 0.9980 - val_loss: 0.2046 - val_accuracy: 0.9736\n",
            "Epoch 11/25\n",
            "1500/1500 [==============================] - 11s 7ms/step - loss: 0.0050 - accuracy: 0.9984 - val_loss: 0.1894 - val_accuracy: 0.9743\n",
            "Epoch 12/25\n",
            "1500/1500 [==============================] - 17s 11ms/step - loss: 0.0087 - accuracy: 0.9973 - val_loss: 0.2177 - val_accuracy: 0.9728\n",
            "Epoch 13/25\n",
            "1500/1500 [==============================] - 14s 9ms/step - loss: 0.0063 - accuracy: 0.9979 - val_loss: 0.1922 - val_accuracy: 0.9767\n",
            "Epoch 14/25\n",
            "1500/1500 [==============================] - 7s 5ms/step - loss: 0.0040 - accuracy: 0.9989 - val_loss: 0.1850 - val_accuracy: 0.9774\n",
            "Epoch 15/25\n",
            "1500/1500 [==============================] - 8s 6ms/step - loss: 0.0071 - accuracy: 0.9979 - val_loss: 0.2097 - val_accuracy: 0.9746\n",
            "Epoch 16/25\n",
            "1500/1500 [==============================] - 6s 4ms/step - loss: 0.0044 - accuracy: 0.9986 - val_loss: 0.2145 - val_accuracy: 0.9762\n",
            "Epoch 17/25\n",
            "1500/1500 [==============================] - 7s 5ms/step - loss: 0.0073 - accuracy: 0.9979 - val_loss: 0.1949 - val_accuracy: 0.9764\n",
            "Epoch 18/25\n",
            "1500/1500 [==============================] - 6s 4ms/step - loss: 0.0045 - accuracy: 0.9985 - val_loss: 0.2119 - val_accuracy: 0.9745\n",
            "Epoch 19/25\n",
            "1500/1500 [==============================] - 7s 5ms/step - loss: 0.0059 - accuracy: 0.9983 - val_loss: 0.2095 - val_accuracy: 0.9760\n",
            "Epoch 20/25\n",
            "1500/1500 [==============================] - 7s 5ms/step - loss: 0.0074 - accuracy: 0.9983 - val_loss: 0.1940 - val_accuracy: 0.9777\n",
            "Epoch 21/25\n",
            "1500/1500 [==============================] - 7s 5ms/step - loss: 0.0033 - accuracy: 0.9990 - val_loss: 0.2007 - val_accuracy: 0.9755\n",
            "Epoch 22/25\n",
            "1500/1500 [==============================] - 6s 4ms/step - loss: 0.0093 - accuracy: 0.9974 - val_loss: 0.2279 - val_accuracy: 0.9740\n",
            "Epoch 23/25\n",
            "1500/1500 [==============================] - 7s 5ms/step - loss: 0.0067 - accuracy: 0.9980 - val_loss: 0.2252 - val_accuracy: 0.9742\n",
            "Epoch 24/25\n",
            "1500/1500 [==============================] - 6s 4ms/step - loss: 0.0047 - accuracy: 0.9987 - val_loss: 0.2011 - val_accuracy: 0.9779\n",
            "Epoch 25/25\n",
            "1500/1500 [==============================] - 7s 5ms/step - loss: 0.0059 - accuracy: 0.9983 - val_loss: 0.2497 - val_accuracy: 0.9722\n"
          ]
        }
      ]
    },
    {
      "cell_type": "markdown",
      "source": [
        "To predict the model and calculate that probability"
      ],
      "metadata": {
        "id": "OF2gQtk_aFZU"
      }
    },
    {
      "cell_type": "code",
      "source": [
        "y_prob=model.predict(x_test)\n",
        "y_pred=y_prob.argmax(axis=1)"
      ],
      "metadata": {
        "colab": {
          "base_uri": "https://localhost:8080/"
        },
        "id": "Dcj8cNvQaSE3",
        "outputId": "57a79c6c-4599-460a-b103-956d23056641"
      },
      "execution_count": 35,
      "outputs": [
        {
          "output_type": "stream",
          "name": "stdout",
          "text": [
            "313/313 [==============================] - 1s 2ms/step\n"
          ]
        }
      ]
    },
    {
      "cell_type": "code",
      "source": [
        "from sklearn.metrics import accuracy_score\n",
        "accuracy_score(y_test,y_pred)"
      ],
      "metadata": {
        "colab": {
          "base_uri": "https://localhost:8080/"
        },
        "id": "BZuzDZ5GaeSo",
        "outputId": "e164355c-62ac-46ec-89e5-b2c69c4e4ead"
      },
      "execution_count": 34,
      "outputs": [
        {
          "output_type": "execute_result",
          "data": {
            "text/plain": [
              "0.9761"
            ]
          },
          "metadata": {},
          "execution_count": 34
        }
      ]
    },
    {
      "cell_type": "code",
      "source": [
        "plt.plot(history.history['accuracy'])\n",
        "plt.plot(history.history['val_accuracy'])"
      ],
      "metadata": {
        "colab": {
          "base_uri": "https://localhost:8080/",
          "height": 449
        },
        "id": "jLCoAQInas-5",
        "outputId": "c1bee4da-92d5-438e-9747-fe86a2bc1ee4"
      },
      "execution_count": 37,
      "outputs": [
        {
          "output_type": "execute_result",
          "data": {
            "text/plain": [
              "[<matplotlib.lines.Line2D at 0x78f63c56b0a0>]"
            ]
          },
          "metadata": {},
          "execution_count": 37
        },
        {
          "output_type": "display_data",
          "data": {
            "text/plain": [
              "<Figure size 640x480 with 1 Axes>"
            ],
            "image/png": "[encoded data removed]"
          },
          "metadata": {}
        }
      ]
    },
    {
      "cell_type": "code",
      "source": [
        "plt.imshow(x_test[4])\n"
      ],
      "metadata": {
        "colab": {
          "base_uri": "https://localhost:8080/",
          "height": 448
        },
        "id": "EUyT62nlcbLy",
        "outputId": "d9218186-0afd-4b1e-c157-c94bfde9bbd8"
      },
      "execution_count": 49,
      "outputs": [
        {
          "output_type": "execute_result",
          "data": {
            "text/plain": [
              "<matplotlib.image.AxesImage at 0x78f63c52baf0>"
            ]
          },
          "metadata": {},
          "execution_count": 49
        },
        {
          "output_type": "display_data",
          "data": {
            "text/plain": [
              "<Figure size 640x480 with 1 Axes>"
            ],
            "image/png": "[encoded data removed]"
          },
          "metadata": {}
        }
      ]
    },
    {
      "cell_type": "code",
      "source": [
        "# Putting the model to predict the digit\n",
        "\n",
        "model.predict(x_test[4].reshape(1,28,28)) # Getting the probabilities of the digit"
      ],
      "metadata": {
        "colab": {
          "base_uri": "https://localhost:8080/"
        },
        "id": "elw67JG5eLw3",
        "outputId": "89dc394b-f715-4c42-a66e-fa362410de22"
      },
      "execution_count": 48,
      "outputs": [
        {
          "output_type": "stream",
          "name": "stdout",
          "text": [
            "1/1 [==============================] - 0s 35ms/step\n"
          ]
        },
        {
          "output_type": "execute_result",
          "data": {
            "text/plain": [
              "array([[5.5211512e-25, 1.4879161e-16, 7.5191372e-13, 6.3244542e-14,\n",
              "        8.5491607e-28, 7.7373986e-24, 7.1915282e-31, 1.0000000e+00,\n",
              "        5.5710976e-19, 9.0326412e-13]], dtype=float32)"
            ]
          },
          "metadata": {},
          "execution_count": 48
        }
      ]
    },
    {
      "cell_type": "code",
      "source": [
        "model.predict(x_test[4].reshape(1,28,28)).argmax(axis=1) # Getting the recognition of the value"
      ],
      "metadata": {
        "colab": {
          "base_uri": "https://localhost:8080/"
        },
        "id": "RuO94mZQeh0s",
        "outputId": "67f27f56-bd06-466c-b779-76d4c84ba647"
      },
      "execution_count": 50,
      "outputs": [
        {
          "output_type": "stream",
          "name": "stdout",
          "text": [
            "1/1 [==============================] - 0s 115ms/step\n"
          ]
        },
        {
          "output_type": "execute_result",
          "data": {
            "text/plain": [
              "array([4])"
            ]
          },
          "metadata": {},
          "execution_count": 50
        }
      ]
    },
    {
      "cell_type": "code",
      "source": [],
      "metadata": {
        "id": "nMdHteBNfBoE"
      },
      "execution_count": null,
      "outputs": []
    }
  ]
}